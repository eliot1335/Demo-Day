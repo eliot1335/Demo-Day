{
 "cells": [
  {
   "cell_type": "code",
   "execution_count": 1,
   "metadata": {},
   "outputs": [],
   "source": [
    "import pandas as pd\n",
    "import numpy as np\n",
    "import json\n",
    "import ast\n",
    "import collections\n",
    "import re\n",
    "import pprint\n",
    "import csv\n",
    "from tqdm import tqdm\n",
    "import pymongo\n",
    "import operator\n",
    "from ast import literal_eval"
   ]
  },
  {
   "cell_type": "code",
   "execution_count": 2,
   "metadata": {},
   "outputs": [
    {
     "output_type": "execute_result",
     "data": {
      "text/plain": [
       "   adult                              belongs_to_collection    budget  \\\n",
       "0  False  {'id': 10194, 'name': 'Toy Story Collection', ...  30000000   \n",
       "1  False                                                NaN  65000000   \n",
       "2  False  {'id': 119050, 'name': 'Grumpy Old Men Collect...         0   \n",
       "3  False                                                NaN  16000000   \n",
       "4  False  {'id': 96871, 'name': 'Father of the Bride Col...         0   \n",
       "\n",
       "                                              genres  \\\n",
       "0  [{'id': 16, 'name': 'Animation'}, {'id': 35, '...   \n",
       "1  [{'id': 12, 'name': 'Adventure'}, {'id': 14, '...   \n",
       "2  [{'id': 10749, 'name': 'Romance'}, {'id': 35, ...   \n",
       "3  [{'id': 35, 'name': 'Comedy'}, {'id': 18, 'nam...   \n",
       "4                     [{'id': 35, 'name': 'Comedy'}]   \n",
       "\n",
       "                               homepage     id    imdb_id original_language  \\\n",
       "0  http://toystory.disney.com/toy-story    862  tt0114709                en   \n",
       "1                                   NaN   8844  tt0113497                en   \n",
       "2                                   NaN  15602  tt0113228                en   \n",
       "3                                   NaN  31357  tt0114885                en   \n",
       "4                                   NaN  11862  tt0113041                en   \n",
       "\n",
       "                original_title  \\\n",
       "0                    Toy Story   \n",
       "1                      Jumanji   \n",
       "2             Grumpier Old Men   \n",
       "3            Waiting to Exhale   \n",
       "4  Father of the Bride Part II   \n",
       "\n",
       "                                            overview  ... release_date  \\\n",
       "0  Led by Woody, Andy's toys live happily in his ...  ...   1995-10-30   \n",
       "1  When siblings Judy and Peter discover an encha...  ...   1995-12-15   \n",
       "2  A family wedding reignites the ancient feud be...  ...   1995-12-22   \n",
       "3  Cheated on, mistreated and stepped on, the wom...  ...   1995-12-22   \n",
       "4  Just when George Banks has recovered from his ...  ...   1995-02-10   \n",
       "\n",
       "       revenue runtime                                   spoken_languages  \\\n",
       "0  373554033.0    81.0           [{'iso_639_1': 'en', 'name': 'English'}]   \n",
       "1  262797249.0   104.0  [{'iso_639_1': 'en', 'name': 'English'}, {'iso...   \n",
       "2          0.0   101.0           [{'iso_639_1': 'en', 'name': 'English'}]   \n",
       "3   81452156.0   127.0           [{'iso_639_1': 'en', 'name': 'English'}]   \n",
       "4   76578911.0   106.0           [{'iso_639_1': 'en', 'name': 'English'}]   \n",
       "\n",
       "     status                                            tagline  \\\n",
       "0  Released                                                NaN   \n",
       "1  Released          Roll the dice and unleash the excitement!   \n",
       "2  Released  Still Yelling. Still Fighting. Still Ready for...   \n",
       "3  Released  Friends are the people who let you be yourself...   \n",
       "4  Released  Just When His World Is Back To Normal... He's ...   \n",
       "\n",
       "                         title  video vote_average vote_count  \n",
       "0                    Toy Story  False          7.7     5415.0  \n",
       "1                      Jumanji  False          6.9     2413.0  \n",
       "2             Grumpier Old Men  False          6.5       92.0  \n",
       "3            Waiting to Exhale  False          6.1       34.0  \n",
       "4  Father of the Bride Part II  False          5.7      173.0  \n",
       "\n",
       "[5 rows x 24 columns]"
      ],
      "text/html": "<div>\n<style scoped>\n    .dataframe tbody tr th:only-of-type {\n        vertical-align: middle;\n    }\n\n    .dataframe tbody tr th {\n        vertical-align: top;\n    }\n\n    .dataframe thead th {\n        text-align: right;\n    }\n</style>\n<table border=\"1\" class=\"dataframe\">\n  <thead>\n    <tr style=\"text-align: right;\">\n      <th></th>\n      <th>adult</th>\n      <th>belongs_to_collection</th>\n      <th>budget</th>\n      <th>genres</th>\n      <th>homepage</th>\n      <th>id</th>\n      <th>imdb_id</th>\n      <th>original_language</th>\n      <th>original_title</th>\n      <th>overview</th>\n      <th>...</th>\n      <th>release_date</th>\n      <th>revenue</th>\n      <th>runtime</th>\n      <th>spoken_languages</th>\n      <th>status</th>\n      <th>tagline</th>\n      <th>title</th>\n      <th>video</th>\n      <th>vote_average</th>\n      <th>vote_count</th>\n    </tr>\n  </thead>\n  <tbody>\n    <tr>\n      <th>0</th>\n      <td>False</td>\n      <td>{'id': 10194, 'name': 'Toy Story Collection', ...</td>\n      <td>30000000</td>\n      <td>[{'id': 16, 'name': 'Animation'}, {'id': 35, '...</td>\n      <td>http://toystory.disney.com/toy-story</td>\n      <td>862</td>\n      <td>tt0114709</td>\n      <td>en</td>\n      <td>Toy Story</td>\n      <td>Led by Woody, Andy's toys live happily in his ...</td>\n      <td>...</td>\n      <td>1995-10-30</td>\n      <td>373554033.0</td>\n      <td>81.0</td>\n      <td>[{'iso_639_1': 'en', 'name': 'English'}]</td>\n      <td>Released</td>\n      <td>NaN</td>\n      <td>Toy Story</td>\n      <td>False</td>\n      <td>7.7</td>\n      <td>5415.0</td>\n    </tr>\n    <tr>\n      <th>1</th>\n      <td>False</td>\n      <td>NaN</td>\n      <td>65000000</td>\n      <td>[{'id': 12, 'name': 'Adventure'}, {'id': 14, '...</td>\n      <td>NaN</td>\n      <td>8844</td>\n      <td>tt0113497</td>\n      <td>en</td>\n      <td>Jumanji</td>\n      <td>When siblings Judy and Peter discover an encha...</td>\n      <td>...</td>\n      <td>1995-12-15</td>\n      <td>262797249.0</td>\n      <td>104.0</td>\n      <td>[{'iso_639_1': 'en', 'name': 'English'}, {'iso...</td>\n      <td>Released</td>\n      <td>Roll the dice and unleash the excitement!</td>\n      <td>Jumanji</td>\n      <td>False</td>\n      <td>6.9</td>\n      <td>2413.0</td>\n    </tr>\n    <tr>\n      <th>2</th>\n      <td>False</td>\n      <td>{'id': 119050, 'name': 'Grumpy Old Men Collect...</td>\n      <td>0</td>\n      <td>[{'id': 10749, 'name': 'Romance'}, {'id': 35, ...</td>\n      <td>NaN</td>\n      <td>15602</td>\n      <td>tt0113228</td>\n      <td>en</td>\n      <td>Grumpier Old Men</td>\n      <td>A family wedding reignites the ancient feud be...</td>\n      <td>...</td>\n      <td>1995-12-22</td>\n      <td>0.0</td>\n      <td>101.0</td>\n      <td>[{'iso_639_1': 'en', 'name': 'English'}]</td>\n      <td>Released</td>\n      <td>Still Yelling. Still Fighting. Still Ready for...</td>\n      <td>Grumpier Old Men</td>\n      <td>False</td>\n      <td>6.5</td>\n      <td>92.0</td>\n    </tr>\n    <tr>\n      <th>3</th>\n      <td>False</td>\n      <td>NaN</td>\n      <td>16000000</td>\n      <td>[{'id': 35, 'name': 'Comedy'}, {'id': 18, 'nam...</td>\n      <td>NaN</td>\n      <td>31357</td>\n      <td>tt0114885</td>\n      <td>en</td>\n      <td>Waiting to Exhale</td>\n      <td>Cheated on, mistreated and stepped on, the wom...</td>\n      <td>...</td>\n      <td>1995-12-22</td>\n      <td>81452156.0</td>\n      <td>127.0</td>\n      <td>[{'iso_639_1': 'en', 'name': 'English'}]</td>\n      <td>Released</td>\n      <td>Friends are the people who let you be yourself...</td>\n      <td>Waiting to Exhale</td>\n      <td>False</td>\n      <td>6.1</td>\n      <td>34.0</td>\n    </tr>\n    <tr>\n      <th>4</th>\n      <td>False</td>\n      <td>{'id': 96871, 'name': 'Father of the Bride Col...</td>\n      <td>0</td>\n      <td>[{'id': 35, 'name': 'Comedy'}]</td>\n      <td>NaN</td>\n      <td>11862</td>\n      <td>tt0113041</td>\n      <td>en</td>\n      <td>Father of the Bride Part II</td>\n      <td>Just when George Banks has recovered from his ...</td>\n      <td>...</td>\n      <td>1995-02-10</td>\n      <td>76578911.0</td>\n      <td>106.0</td>\n      <td>[{'iso_639_1': 'en', 'name': 'English'}]</td>\n      <td>Released</td>\n      <td>Just When His World Is Back To Normal... He's ...</td>\n      <td>Father of the Bride Part II</td>\n      <td>False</td>\n      <td>5.7</td>\n      <td>173.0</td>\n    </tr>\n  </tbody>\n</table>\n<p>5 rows × 24 columns</p>\n</div>"
     },
     "metadata": {},
     "execution_count": 2
    }
   ],
   "source": [
    "df_metadata= pd.read_csv(\"Resources/movies_metadata.csv\", low_memory=False)\n",
    "df_metadata.head()"
   ]
  },
  {
   "cell_type": "code",
   "execution_count": 3,
   "metadata": {},
   "outputs": [
    {
     "output_type": "execute_result",
     "data": {
      "text/plain": [
       "      id                        title    budget  \\\n",
       "0    862                    Toy Story  30000000   \n",
       "1   8844                      Jumanji  65000000   \n",
       "2  15602             Grumpier Old Men         0   \n",
       "3  31357            Waiting to Exhale  16000000   \n",
       "4  11862  Father of the Bride Part II         0   \n",
       "\n",
       "                                              genres  \\\n",
       "0  [{'id': 16, 'name': 'Animation'}, {'id': 35, '...   \n",
       "1  [{'id': 12, 'name': 'Adventure'}, {'id': 14, '...   \n",
       "2  [{'id': 10749, 'name': 'Romance'}, {'id': 35, ...   \n",
       "3  [{'id': 35, 'name': 'Comedy'}, {'id': 18, 'nam...   \n",
       "4                     [{'id': 35, 'name': 'Comedy'}]   \n",
       "\n",
       "                                production_countries      revenue  \n",
       "0  [{'iso_3166_1': 'US', 'name': 'United States o...  373554033.0  \n",
       "1  [{'iso_3166_1': 'US', 'name': 'United States o...  262797249.0  \n",
       "2  [{'iso_3166_1': 'US', 'name': 'United States o...          0.0  \n",
       "3  [{'iso_3166_1': 'US', 'name': 'United States o...   81452156.0  \n",
       "4  [{'iso_3166_1': 'US', 'name': 'United States o...   76578911.0  "
      ],
      "text/html": "<div>\n<style scoped>\n    .dataframe tbody tr th:only-of-type {\n        vertical-align: middle;\n    }\n\n    .dataframe tbody tr th {\n        vertical-align: top;\n    }\n\n    .dataframe thead th {\n        text-align: right;\n    }\n</style>\n<table border=\"1\" class=\"dataframe\">\n  <thead>\n    <tr style=\"text-align: right;\">\n      <th></th>\n      <th>id</th>\n      <th>title</th>\n      <th>budget</th>\n      <th>genres</th>\n      <th>production_countries</th>\n      <th>revenue</th>\n    </tr>\n  </thead>\n  <tbody>\n    <tr>\n      <th>0</th>\n      <td>862</td>\n      <td>Toy Story</td>\n      <td>30000000</td>\n      <td>[{'id': 16, 'name': 'Animation'}, {'id': 35, '...</td>\n      <td>[{'iso_3166_1': 'US', 'name': 'United States o...</td>\n      <td>373554033.0</td>\n    </tr>\n    <tr>\n      <th>1</th>\n      <td>8844</td>\n      <td>Jumanji</td>\n      <td>65000000</td>\n      <td>[{'id': 12, 'name': 'Adventure'}, {'id': 14, '...</td>\n      <td>[{'iso_3166_1': 'US', 'name': 'United States o...</td>\n      <td>262797249.0</td>\n    </tr>\n    <tr>\n      <th>2</th>\n      <td>15602</td>\n      <td>Grumpier Old Men</td>\n      <td>0</td>\n      <td>[{'id': 10749, 'name': 'Romance'}, {'id': 35, ...</td>\n      <td>[{'iso_3166_1': 'US', 'name': 'United States o...</td>\n      <td>0.0</td>\n    </tr>\n    <tr>\n      <th>3</th>\n      <td>31357</td>\n      <td>Waiting to Exhale</td>\n      <td>16000000</td>\n      <td>[{'id': 35, 'name': 'Comedy'}, {'id': 18, 'nam...</td>\n      <td>[{'iso_3166_1': 'US', 'name': 'United States o...</td>\n      <td>81452156.0</td>\n    </tr>\n    <tr>\n      <th>4</th>\n      <td>11862</td>\n      <td>Father of the Bride Part II</td>\n      <td>0</td>\n      <td>[{'id': 35, 'name': 'Comedy'}]</td>\n      <td>[{'iso_3166_1': 'US', 'name': 'United States o...</td>\n      <td>76578911.0</td>\n    </tr>\n  </tbody>\n</table>\n</div>"
     },
     "metadata": {},
     "execution_count": 3
    }
   ],
   "source": [
    "movies_cols=[\"id\", \"title\", \"budget\", \"genres\", \"production_countries\", \"revenue\"]\n",
    "df_movies=df_metadata[movies_cols].copy()\n",
    "df_movies.head()"
   ]
  },
  {
   "cell_type": "code",
   "execution_count": 4,
   "metadata": {},
   "outputs": [
    {
     "output_type": "execute_result",
     "data": {
      "text/plain": [
       "           id                        title    budget  \\\n",
       "0         862                    Toy Story  30000000   \n",
       "1        8844                      Jumanji  65000000   \n",
       "2       15602             Grumpier Old Men         0   \n",
       "3       31357            Waiting to Exhale  16000000   \n",
       "4       11862  Father of the Bride Part II         0   \n",
       "...       ...                          ...       ...   \n",
       "45461  439050                       Subdue         0   \n",
       "45462  111109          Century of Birthing         0   \n",
       "45463   67758                     Betrayal         0   \n",
       "45464  227506             Satan Triumphant         0   \n",
       "45465  461257                     Queerama         0   \n",
       "\n",
       "                                                  genres  \\\n",
       "0      [{'id': 16, 'name': 'Animation'}, {'id': 35, '...   \n",
       "1      [{'id': 12, 'name': 'Adventure'}, {'id': 14, '...   \n",
       "2      [{'id': 10749, 'name': 'Romance'}, {'id': 35, ...   \n",
       "3      [{'id': 35, 'name': 'Comedy'}, {'id': 18, 'nam...   \n",
       "4                         [{'id': 35, 'name': 'Comedy'}]   \n",
       "...                                                  ...   \n",
       "45461  [{'id': 18, 'name': 'Drama'}, {'id': 10751, 'n...   \n",
       "45462                      [{'id': 18, 'name': 'Drama'}]   \n",
       "45463  [{'id': 28, 'name': 'Action'}, {'id': 18, 'nam...   \n",
       "45464                                                 []   \n",
       "45465                                                 []   \n",
       "\n",
       "                                     productionCountries      revenue  \n",
       "0      [{'iso_3166_1': 'US', 'name': 'United States o...  373554033.0  \n",
       "1      [{'iso_3166_1': 'US', 'name': 'United States o...  262797249.0  \n",
       "2      [{'iso_3166_1': 'US', 'name': 'United States o...          0.0  \n",
       "3      [{'iso_3166_1': 'US', 'name': 'United States o...   81452156.0  \n",
       "4      [{'iso_3166_1': 'US', 'name': 'United States o...   76578911.0  \n",
       "...                                                  ...          ...  \n",
       "45461             [{'iso_3166_1': 'IR', 'name': 'Iran'}]          0.0  \n",
       "45462      [{'iso_3166_1': 'PH', 'name': 'Philippines'}]          0.0  \n",
       "45463  [{'iso_3166_1': 'US', 'name': 'United States o...          0.0  \n",
       "45464           [{'iso_3166_1': 'RU', 'name': 'Russia'}]          0.0  \n",
       "45465   [{'iso_3166_1': 'GB', 'name': 'United Kingdom'}]          0.0  \n",
       "\n",
       "[45466 rows x 6 columns]"
      ],
      "text/html": "<div>\n<style scoped>\n    .dataframe tbody tr th:only-of-type {\n        vertical-align: middle;\n    }\n\n    .dataframe tbody tr th {\n        vertical-align: top;\n    }\n\n    .dataframe thead th {\n        text-align: right;\n    }\n</style>\n<table border=\"1\" class=\"dataframe\">\n  <thead>\n    <tr style=\"text-align: right;\">\n      <th></th>\n      <th>id</th>\n      <th>title</th>\n      <th>budget</th>\n      <th>genres</th>\n      <th>productionCountries</th>\n      <th>revenue</th>\n    </tr>\n  </thead>\n  <tbody>\n    <tr>\n      <th>0</th>\n      <td>862</td>\n      <td>Toy Story</td>\n      <td>30000000</td>\n      <td>[{'id': 16, 'name': 'Animation'}, {'id': 35, '...</td>\n      <td>[{'iso_3166_1': 'US', 'name': 'United States o...</td>\n      <td>373554033.0</td>\n    </tr>\n    <tr>\n      <th>1</th>\n      <td>8844</td>\n      <td>Jumanji</td>\n      <td>65000000</td>\n      <td>[{'id': 12, 'name': 'Adventure'}, {'id': 14, '...</td>\n      <td>[{'iso_3166_1': 'US', 'name': 'United States o...</td>\n      <td>262797249.0</td>\n    </tr>\n    <tr>\n      <th>2</th>\n      <td>15602</td>\n      <td>Grumpier Old Men</td>\n      <td>0</td>\n      <td>[{'id': 10749, 'name': 'Romance'}, {'id': 35, ...</td>\n      <td>[{'iso_3166_1': 'US', 'name': 'United States o...</td>\n      <td>0.0</td>\n    </tr>\n    <tr>\n      <th>3</th>\n      <td>31357</td>\n      <td>Waiting to Exhale</td>\n      <td>16000000</td>\n      <td>[{'id': 35, 'name': 'Comedy'}, {'id': 18, 'nam...</td>\n      <td>[{'iso_3166_1': 'US', 'name': 'United States o...</td>\n      <td>81452156.0</td>\n    </tr>\n    <tr>\n      <th>4</th>\n      <td>11862</td>\n      <td>Father of the Bride Part II</td>\n      <td>0</td>\n      <td>[{'id': 35, 'name': 'Comedy'}]</td>\n      <td>[{'iso_3166_1': 'US', 'name': 'United States o...</td>\n      <td>76578911.0</td>\n    </tr>\n    <tr>\n      <th>...</th>\n      <td>...</td>\n      <td>...</td>\n      <td>...</td>\n      <td>...</td>\n      <td>...</td>\n      <td>...</td>\n    </tr>\n    <tr>\n      <th>45461</th>\n      <td>439050</td>\n      <td>Subdue</td>\n      <td>0</td>\n      <td>[{'id': 18, 'name': 'Drama'}, {'id': 10751, 'n...</td>\n      <td>[{'iso_3166_1': 'IR', 'name': 'Iran'}]</td>\n      <td>0.0</td>\n    </tr>\n    <tr>\n      <th>45462</th>\n      <td>111109</td>\n      <td>Century of Birthing</td>\n      <td>0</td>\n      <td>[{'id': 18, 'name': 'Drama'}]</td>\n      <td>[{'iso_3166_1': 'PH', 'name': 'Philippines'}]</td>\n      <td>0.0</td>\n    </tr>\n    <tr>\n      <th>45463</th>\n      <td>67758</td>\n      <td>Betrayal</td>\n      <td>0</td>\n      <td>[{'id': 28, 'name': 'Action'}, {'id': 18, 'nam...</td>\n      <td>[{'iso_3166_1': 'US', 'name': 'United States o...</td>\n      <td>0.0</td>\n    </tr>\n    <tr>\n      <th>45464</th>\n      <td>227506</td>\n      <td>Satan Triumphant</td>\n      <td>0</td>\n      <td>[]</td>\n      <td>[{'iso_3166_1': 'RU', 'name': 'Russia'}]</td>\n      <td>0.0</td>\n    </tr>\n    <tr>\n      <th>45465</th>\n      <td>461257</td>\n      <td>Queerama</td>\n      <td>0</td>\n      <td>[]</td>\n      <td>[{'iso_3166_1': 'GB', 'name': 'United Kingdom'}]</td>\n      <td>0.0</td>\n    </tr>\n  </tbody>\n</table>\n<p>45466 rows × 6 columns</p>\n</div>"
     },
     "metadata": {},
     "execution_count": 4
    }
   ],
   "source": [
    "renamed={\"production_countries\": \"productionCountries\"}\n",
    "df_movies = df_movies.rename(columns=renamed)\n",
    "df_movies"
   ]
  },
  {
   "cell_type": "code",
   "execution_count": 5,
   "metadata": {},
   "outputs": [
    {
     "output_type": "stream",
     "name": "stdout",
     "text": [
      "Start Shape: (45466, 6)\nEnd Shape: (45430, 6)\n"
     ]
    }
   ],
   "source": [
    "print(\"Start Shape: \" + str(df_movies.shape))\n",
    "df_movies.dropna(inplace=True)\n",
    "df_movies.drop_duplicates(inplace=True)\n",
    "print(\"End Shape: \" + str(df_movies.shape))"
   ]
  },
  {
   "cell_type": "code",
   "execution_count": 6,
   "metadata": {},
   "outputs": [],
   "source": [
    "df_movies[\"budget\"] = df_movies[\"budget\"].astype(float)"
   ]
  },
  {
   "cell_type": "code",
   "execution_count": 7,
   "metadata": {},
   "outputs": [
    {
     "output_type": "execute_result",
     "data": {
      "text/plain": [
       "0    [{'iso_3166_1': 'US', 'name': 'United States o...\n",
       "1    [{'iso_3166_1': 'US', 'name': 'United States o...\n",
       "2    [{'iso_3166_1': 'US', 'name': 'United States o...\n",
       "3    [{'iso_3166_1': 'US', 'name': 'United States o...\n",
       "4    [{'iso_3166_1': 'US', 'name': 'United States o...\n",
       "Name: productionCountries, dtype: object"
      ]
     },
     "metadata": {},
     "execution_count": 7
    }
   ],
   "source": [
    "converted_values = df_movies[\"productionCountries\"].apply(literal_eval)\n",
    "converted_values.head()"
   ]
  },
  {
   "cell_type": "code",
   "execution_count": 8,
   "metadata": {
    "collapsed": true,
    "jupyter": {
     "outputs_hidden": true
    }
   },
   "outputs": [],
   "source": [
    "extracted_countries = []\n",
    "\n",
    "for item in converted_values.values:\n",
    "    if len(item) == 0:\n",
    "        # print('Item empty, skipping')\n",
    "        extracted_countries.append('')\n",
    "    else:\n",
    "        # print(item[0]['name'])\n",
    "        extracted_countries.append(item[0]['name'])"
   ]
  },
  {
   "cell_type": "code",
   "execution_count": 9,
   "metadata": {},
   "outputs": [
    {
     "output_type": "execute_result",
     "data": {
      "text/plain": [
       "      id                        title      budget  \\\n",
       "0    862                    Toy Story  30000000.0   \n",
       "1   8844                      Jumanji  65000000.0   \n",
       "2  15602             Grumpier Old Men         0.0   \n",
       "3  31357            Waiting to Exhale  16000000.0   \n",
       "4  11862  Father of the Bride Part II         0.0   \n",
       "\n",
       "                                              genres  \\\n",
       "0  [{'id': 16, 'name': 'Animation'}, {'id': 35, '...   \n",
       "1  [{'id': 12, 'name': 'Adventure'}, {'id': 14, '...   \n",
       "2  [{'id': 10749, 'name': 'Romance'}, {'id': 35, ...   \n",
       "3  [{'id': 35, 'name': 'Comedy'}, {'id': 18, 'nam...   \n",
       "4                     [{'id': 35, 'name': 'Comedy'}]   \n",
       "\n",
       "        productionCountries      revenue  \n",
       "0  United States of America  373554033.0  \n",
       "1  United States of America  262797249.0  \n",
       "2  United States of America          0.0  \n",
       "3  United States of America   81452156.0  \n",
       "4  United States of America   76578911.0  "
      ],
      "text/html": "<div>\n<style scoped>\n    .dataframe tbody tr th:only-of-type {\n        vertical-align: middle;\n    }\n\n    .dataframe tbody tr th {\n        vertical-align: top;\n    }\n\n    .dataframe thead th {\n        text-align: right;\n    }\n</style>\n<table border=\"1\" class=\"dataframe\">\n  <thead>\n    <tr style=\"text-align: right;\">\n      <th></th>\n      <th>id</th>\n      <th>title</th>\n      <th>budget</th>\n      <th>genres</th>\n      <th>productionCountries</th>\n      <th>revenue</th>\n    </tr>\n  </thead>\n  <tbody>\n    <tr>\n      <th>0</th>\n      <td>862</td>\n      <td>Toy Story</td>\n      <td>30000000.0</td>\n      <td>[{'id': 16, 'name': 'Animation'}, {'id': 35, '...</td>\n      <td>United States of America</td>\n      <td>373554033.0</td>\n    </tr>\n    <tr>\n      <th>1</th>\n      <td>8844</td>\n      <td>Jumanji</td>\n      <td>65000000.0</td>\n      <td>[{'id': 12, 'name': 'Adventure'}, {'id': 14, '...</td>\n      <td>United States of America</td>\n      <td>262797249.0</td>\n    </tr>\n    <tr>\n      <th>2</th>\n      <td>15602</td>\n      <td>Grumpier Old Men</td>\n      <td>0.0</td>\n      <td>[{'id': 10749, 'name': 'Romance'}, {'id': 35, ...</td>\n      <td>United States of America</td>\n      <td>0.0</td>\n    </tr>\n    <tr>\n      <th>3</th>\n      <td>31357</td>\n      <td>Waiting to Exhale</td>\n      <td>16000000.0</td>\n      <td>[{'id': 35, 'name': 'Comedy'}, {'id': 18, 'nam...</td>\n      <td>United States of America</td>\n      <td>81452156.0</td>\n    </tr>\n    <tr>\n      <th>4</th>\n      <td>11862</td>\n      <td>Father of the Bride Part II</td>\n      <td>0.0</td>\n      <td>[{'id': 35, 'name': 'Comedy'}]</td>\n      <td>United States of America</td>\n      <td>76578911.0</td>\n    </tr>\n  </tbody>\n</table>\n</div>"
     },
     "metadata": {},
     "execution_count": 9
    }
   ],
   "source": [
    "df_movies[\"productionCountries\"] = extracted_countries\n",
    "df_movies.head()"
   ]
  },
  {
   "cell_type": "code",
   "execution_count": 10,
   "metadata": {},
   "outputs": [],
   "source": [
    "pd.set_option('display.max_columns', None)\n",
    "df_movies[\"id\"] = pd.to_numeric(df_movies[\"id\"].replace([np.inf, -np.inf], np.nan).dropna(), downcast=\"integer\", errors=\"coerce\")\n",
    "df_movies = df_movies.dropna()\n",
    "df_movies[\"id\"] = df_movies[\"id\"].astype(int)"
   ]
  },
  {
   "cell_type": "code",
   "execution_count": 11,
   "metadata": {},
   "outputs": [
    {
     "output_type": "stream",
     "name": "stdout",
     "text": [
      "End Shape: (45430, 6)\n"
     ]
    }
   ],
   "source": [
    "print(\"End Shape: \" + str(df_movies.shape))"
   ]
  },
  {
   "cell_type": "code",
   "execution_count": 12,
   "metadata": {},
   "outputs": [],
   "source": [
    "# Subroutine that does the following things:\n",
    "# Grabs the JSON text from the column key spcified and returns an Object\n",
    "# Assumes there is a list of objects and iterates over them\n",
    "# Grab the data for the key and append it to a local list\n",
    "# Once we are done iterating over the object, replace the element that\n",
    "# we started with with a colon seperated list on the key words\n",
    "def getJSONDictElements(df, colKey, dictKey, seperator, totalDict):\n",
    "    with tqdm(total=df.shape[0]) as pbar:\n",
    "        for index, row in df.iterrows():\n",
    "            pbar.update(1)\n",
    "            json_string = row[colKey]\n",
    "            if not isinstance(json_string, str):\n",
    "                # skip lines that aren't strings\n",
    "                continue\n",
    "            if \"{\" not in json_string:\n",
    "                # skip lines that aren't dict's\n",
    "                continue\n",
    "            obj = ast.literal_eval(json_string)\n",
    "            elementList = []\n",
    "            for item in obj:\n",
    "            # pprint.pprint(item)\n",
    "                if len(item[dictKey]) > 0:\n",
    "                    elementList.append(item[dictKey])\n",
    "                    if item[dictKey] not in totalDict:\n",
    "                        totalDict[item[dictKey]] = 1\n",
    "                    else:\n",
    "                        totalDict[item[dictKey]] += 1\n",
    "            df.at[index, colKey] = seperator.join(elementList)"
   ]
  },
  {
   "cell_type": "code",
   "execution_count": 13,
   "metadata": {},
   "outputs": [
    {
     "output_type": "stream",
     "name": "stderr",
     "text": [
      "100%|██████████| 45430/45430 [00:08<00:00, 5385.12it/s]\n"
     ]
    },
    {
     "output_type": "execute_result",
     "data": {
      "text/plain": [
       "      id                        title      budget                    genres  \\\n",
       "0    862                    Toy Story  30000000.0   Animation:Comedy:Family   \n",
       "1   8844                      Jumanji  65000000.0  Adventure:Fantasy:Family   \n",
       "2  15602             Grumpier Old Men         0.0            Romance:Comedy   \n",
       "3  31357            Waiting to Exhale  16000000.0      Comedy:Drama:Romance   \n",
       "4  11862  Father of the Bride Part II         0.0                    Comedy   \n",
       "\n",
       "        productionCountries      revenue  \n",
       "0  United States of America  373554033.0  \n",
       "1  United States of America  262797249.0  \n",
       "2  United States of America          0.0  \n",
       "3  United States of America   81452156.0  \n",
       "4  United States of America   76578911.0  "
      ],
      "text/html": "<div>\n<style scoped>\n    .dataframe tbody tr th:only-of-type {\n        vertical-align: middle;\n    }\n\n    .dataframe tbody tr th {\n        vertical-align: top;\n    }\n\n    .dataframe thead th {\n        text-align: right;\n    }\n</style>\n<table border=\"1\" class=\"dataframe\">\n  <thead>\n    <tr style=\"text-align: right;\">\n      <th></th>\n      <th>id</th>\n      <th>title</th>\n      <th>budget</th>\n      <th>genres</th>\n      <th>productionCountries</th>\n      <th>revenue</th>\n    </tr>\n  </thead>\n  <tbody>\n    <tr>\n      <th>0</th>\n      <td>862</td>\n      <td>Toy Story</td>\n      <td>30000000.0</td>\n      <td>Animation:Comedy:Family</td>\n      <td>United States of America</td>\n      <td>373554033.0</td>\n    </tr>\n    <tr>\n      <th>1</th>\n      <td>8844</td>\n      <td>Jumanji</td>\n      <td>65000000.0</td>\n      <td>Adventure:Fantasy:Family</td>\n      <td>United States of America</td>\n      <td>262797249.0</td>\n    </tr>\n    <tr>\n      <th>2</th>\n      <td>15602</td>\n      <td>Grumpier Old Men</td>\n      <td>0.0</td>\n      <td>Romance:Comedy</td>\n      <td>United States of America</td>\n      <td>0.0</td>\n    </tr>\n    <tr>\n      <th>3</th>\n      <td>31357</td>\n      <td>Waiting to Exhale</td>\n      <td>16000000.0</td>\n      <td>Comedy:Drama:Romance</td>\n      <td>United States of America</td>\n      <td>81452156.0</td>\n    </tr>\n    <tr>\n      <th>4</th>\n      <td>11862</td>\n      <td>Father of the Bride Part II</td>\n      <td>0.0</td>\n      <td>Comedy</td>\n      <td>United States of America</td>\n      <td>76578911.0</td>\n    </tr>\n  </tbody>\n</table>\n</div>"
     },
     "metadata": {},
     "execution_count": 13
    }
   ],
   "source": [
    "file = \"Resources/genre_list.csv\"\n",
    "total_genres = {}\n",
    "getJSONDictElements(df_movies, \"genres\", \"name\", \":\", total_genres)\n",
    "with open(file, 'w', newline='') as csvFile:\n",
    "    csvwriter = csv.writer(csvFile)\n",
    "    for key in sorted(total_genres.keys()):\n",
    "        if total_genres[key] < 5:\n",
    "            # skip the production company names\n",
    "            continue\n",
    "        csvwriter.writerow([key, total_genres[key]])\n",
    "\n",
    "df_movies.head()"
   ]
  },
  {
   "cell_type": "code",
   "execution_count": 14,
   "metadata": {},
   "outputs": [
    {
     "output_type": "execute_result",
     "data": {
      "text/plain": [
       "      id                                           keywords\n",
       "0    862  [{'id': 931, 'name': 'jealousy'}, {'id': 4290,...\n",
       "1   8844  [{'id': 10090, 'name': 'board game'}, {'id': 1...\n",
       "2  15602  [{'id': 1495, 'name': 'fishing'}, {'id': 12392...\n",
       "3  31357  [{'id': 818, 'name': 'based on novel'}, {'id':...\n",
       "4  11862  [{'id': 1009, 'name': 'baby'}, {'id': 1599, 'n..."
      ],
      "text/html": "<div>\n<style scoped>\n    .dataframe tbody tr th:only-of-type {\n        vertical-align: middle;\n    }\n\n    .dataframe tbody tr th {\n        vertical-align: top;\n    }\n\n    .dataframe thead th {\n        text-align: right;\n    }\n</style>\n<table border=\"1\" class=\"dataframe\">\n  <thead>\n    <tr style=\"text-align: right;\">\n      <th></th>\n      <th>id</th>\n      <th>keywords</th>\n    </tr>\n  </thead>\n  <tbody>\n    <tr>\n      <th>0</th>\n      <td>862</td>\n      <td>[{'id': 931, 'name': 'jealousy'}, {'id': 4290,...</td>\n    </tr>\n    <tr>\n      <th>1</th>\n      <td>8844</td>\n      <td>[{'id': 10090, 'name': 'board game'}, {'id': 1...</td>\n    </tr>\n    <tr>\n      <th>2</th>\n      <td>15602</td>\n      <td>[{'id': 1495, 'name': 'fishing'}, {'id': 12392...</td>\n    </tr>\n    <tr>\n      <th>3</th>\n      <td>31357</td>\n      <td>[{'id': 818, 'name': 'based on novel'}, {'id':...</td>\n    </tr>\n    <tr>\n      <th>4</th>\n      <td>11862</td>\n      <td>[{'id': 1009, 'name': 'baby'}, {'id': 1599, 'n...</td>\n    </tr>\n  </tbody>\n</table>\n</div>"
     },
     "metadata": {},
     "execution_count": 14
    }
   ],
   "source": [
    "file = \"Resources/keywords.csv\"\n",
    "df_key = pd.read_csv(file)\n",
    "df_key.head()"
   ]
  },
  {
   "cell_type": "code",
   "execution_count": 15,
   "metadata": {},
   "outputs": [
    {
     "output_type": "stream",
     "name": "stderr",
     "text": [
      "100%|██████████| 46419/46419 [00:10<00:00, 4427.77it/s]\n"
     ]
    },
    {
     "output_type": "execute_result",
     "data": {
      "text/plain": [
       "      id                                           keywords\n",
       "0    862  jealousy:toy:boy:friendship:friends:rivalry:bo...\n",
       "1   8844  board game:disappearance:based on children's b...\n",
       "2  15602   fishing:best friend:duringcreditsstinger:old men\n",
       "3  31357  based on novel:interracial relationship:single...\n",
       "4  11862  baby:midlife crisis:confidence:aging:daughter:..."
      ],
      "text/html": "<div>\n<style scoped>\n    .dataframe tbody tr th:only-of-type {\n        vertical-align: middle;\n    }\n\n    .dataframe tbody tr th {\n        vertical-align: top;\n    }\n\n    .dataframe thead th {\n        text-align: right;\n    }\n</style>\n<table border=\"1\" class=\"dataframe\">\n  <thead>\n    <tr style=\"text-align: right;\">\n      <th></th>\n      <th>id</th>\n      <th>keywords</th>\n    </tr>\n  </thead>\n  <tbody>\n    <tr>\n      <th>0</th>\n      <td>862</td>\n      <td>jealousy:toy:boy:friendship:friends:rivalry:bo...</td>\n    </tr>\n    <tr>\n      <th>1</th>\n      <td>8844</td>\n      <td>board game:disappearance:based on children's b...</td>\n    </tr>\n    <tr>\n      <th>2</th>\n      <td>15602</td>\n      <td>fishing:best friend:duringcreditsstinger:old men</td>\n    </tr>\n    <tr>\n      <th>3</th>\n      <td>31357</td>\n      <td>based on novel:interracial relationship:single...</td>\n    </tr>\n    <tr>\n      <th>4</th>\n      <td>11862</td>\n      <td>baby:midlife crisis:confidence:aging:daughter:...</td>\n    </tr>\n  </tbody>\n</table>\n</div>"
     },
     "metadata": {},
     "execution_count": 15
    }
   ],
   "source": [
    "total_key_words = {}\n",
    "getJSONDictElements(df_key, \"keywords\", \"name\", \":\", total_key_words)\n",
    "df_key.head()"
   ]
  },
  {
   "cell_type": "code",
   "execution_count": 16,
   "metadata": {},
   "outputs": [
    {
     "output_type": "stream",
     "name": "stdout",
     "text": [
      "      id                        title      budget                    genres  \\\n0    862                    Toy Story  30000000.0   Animation:Comedy:Family   \n1   8844                      Jumanji  65000000.0  Adventure:Fantasy:Family   \n2  15602             Grumpier Old Men         0.0            Romance:Comedy   \n3  31357            Waiting to Exhale  16000000.0      Comedy:Drama:Romance   \n4  11862  Father of the Bride Part II         0.0                    Comedy   \n\n        productionCountries      revenue  \\\n0  United States of America  373554033.0   \n1  United States of America  262797249.0   \n2  United States of America          0.0   \n3  United States of America   81452156.0   \n4  United States of America   76578911.0   \n\n                                            keywords  \n0  jealousy:toy:boy:friendship:friends:rivalry:bo...  \n1  board game:disappearance:based on children's b...  \n2   fishing:best friend:duringcreditsstinger:old men  \n3  based on novel:interracial relationship:single...  \n4  baby:midlife crisis:confidence:aging:daughter:...  \nEnd Shape: (46415, 7)\n"
     ]
    }
   ],
   "source": [
    "joined_df = pd.merge(left=df_movies, right=df_key, left_on=\"id\", right_on=\"id\")\n",
    "print(joined_df.head())\n",
    "print(\"End Shape: \" + str(joined_df.shape))"
   ]
  },
  {
   "cell_type": "code",
   "execution_count": 17,
   "metadata": {},
   "outputs": [
    {
     "output_type": "stream",
     "name": "stdout",
     "text": [
      "End Shape: (46415, 7)\n"
     ]
    }
   ],
   "source": [
    "joined_df = joined_df.dropna(how='any')\n",
    "print(\"End Shape: \" + str(joined_df.shape))"
   ]
  },
  {
   "cell_type": "code",
   "execution_count": 18,
   "metadata": {},
   "outputs": [
    {
     "output_type": "stream",
     "name": "stdout",
     "text": [
      "End Shape: (45429, 7)\n"
     ]
    }
   ],
   "source": [
    "joined_df.drop_duplicates(inplace=True)\n",
    "print(\"End Shape: \" + str(joined_df.shape))"
   ]
  },
  {
   "cell_type": "code",
   "execution_count": 19,
   "metadata": {},
   "outputs": [
    {
     "output_type": "execute_result",
     "data": {
      "text/plain": [
       "<pymongo.results.InsertManyResult at 0x2a58ff82a80>"
      ]
     },
     "metadata": {},
     "execution_count": 19
    }
   ],
   "source": [
    "# Connecting to Mongo Cloud DB\n",
    "from config import MONGO_URI\n",
    "client = pymongo.MongoClient(MONGO_URI)\n",
    "# Declare the database\n",
    "db = client.movies_db\n",
    "collection = db['movie_table']\n",
    "collection.drop() # drop the table to start fresh\n",
    "collection = db['movie_table']\n",
    "\n",
    "# Convert the joined_df to a dict\n",
    "data_dict = joined_df.to_dict(\"records\")\n",
    "\n",
    "collection.insert_many(data_dict)"
   ]
  },
  {
   "cell_type": "code",
   "execution_count": 20,
   "metadata": {},
   "outputs": [
    {
     "output_type": "execute_result",
     "data": {
      "text/plain": [
       "45429"
      ]
     },
     "metadata": {},
     "execution_count": 20
    }
   ],
   "source": [
    "collection.count()"
   ]
  },
  {
   "cell_type": "code",
   "execution_count": null,
   "metadata": {},
   "outputs": [],
   "source": []
  }
 ],
 "metadata": {
  "kernelspec": {
   "name": "python3",
   "display_name": "Python 3",
   "language": "python"
  },
  "language_info": {
   "codemirror_mode": {
    "name": "ipython",
    "version": 3
   },
   "file_extension": ".py",
   "mimetype": "text/x-python",
   "name": "python",
   "nbconvert_exporter": "python",
   "pygments_lexer": "ipython3",
   "version": "3.8.3-final"
  }
 },
 "nbformat": 4,
 "nbformat_minor": 4
}